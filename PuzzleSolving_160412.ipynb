{
 "cells": [
  {
   "cell_type": "markdown",
   "metadata": {},
   "source": [
    "Embed Cryptoquip here:\n",
    "\n",
    "JS H CPQBO QS OJCDQAU\n",
    "\n",
    "(etc)\n",
    "\n",
    "Clue: X is y"
   ]
  },
  {
   "cell_type": "markdown",
   "metadata": {},
   "source": []
  },
  {
   "cell_type": "markdown",
   "metadata": {},
   "source": [
    "Above is a cryptoquip puzzle from <url>. I am explaining how to work one.\n",
    "Convention from cryptoquip.py: Uppercase letters are from the (unsolved) puzzle; lowercase letters are from the solution."
   ]
  },
  {
   "cell_type": "markdown",
   "metadata": {},
   "source": [
    "Here's a think-aloud of someone solving it.\n",
    "1. The 'H' can only be an 'a' or an 'i'. Let's try an 'a'.\n",
    "Now the state of the puzzle is\n",
    "\n",
    "JS a CPQBO QS OJCDQAU\n",
    "\n"
   ]
  },
  {
   "cell_type": "markdown",
   "metadata": {},
   "source": [
    "1. Puzzle solving by a human\n",
    "    a. Purpose -- intellectual challenge\n",
    "    b. Using computers, dictionaries, frequency tables, etc. would count as cheating!\n",
    "    c. For instance, I work crossword puzzles for fun. I never look up things in the dictionary or on google while working them--this would defeat the purpose, which is an intellectual challenge.\n",
    "    \n",
    "2. Puzzle solving by a computer\n",
    "    a. Purpose -- speed (maybe other things like data storage, communication, etc.)\n",
    "    b. Using human-style reasoning would slow things down.\n",
    "    c. For instance, I don't want my math program to do long division the way I would, because it can do it much more quickly using digital algorithms based on binary silicon stuff etc.\n",
    "    \n",
    "3. Puzzle solving in cognitive modeling\n",
    "    a. Purpose -- understand cognition in two ways\n",
    "    b. Way 1 -- How does a human mind work (in the case of puzzle solving)\n",
    "    c. Way 2- How can we build a computer model that works the same way the human mind does?\n",
    "    \n",
    "4. Puzzle solving by a LIDA agent\n",
    "    a. Cognitive modeling approach (Number 3) tries to get computers to work like humans\n",
    "    b. We need to analyze Number 1 thoroughly (using think aloud approach, for instance)\n",
    "    c. We need to design computer algorithms NOT according to Number 2, but \n",
    "    d. We want to use all the knowledge we can from people who have researched Number 2 type stuff\n",
    "    e. and adapt it to creating algorithms that can serve as pieces (probably SBCs) of a LIDA agent "
   ]
  },
  {
   "cell_type": "markdown",
   "metadata": {},
   "source": [
    "For Number 1: \n",
    "A. Choose a puzzle\n",
    "B. Choose an action (eg H = a)\n",
    "C. Update the puzzle\n",
    "D. Repeat until solved\n",
    "\n",
    "All the cognition is in B. (What do I do next?)\n",
    "Each cognitive cycle can involve choosing the next \"guess\", or unchoosing a previous guess.\n",
    "So the cycle begins with \"perceiving\" the current state of the puzzle, and ends with the next action."
   ]
  },
  {
   "cell_type": "code",
   "execution_count": null,
   "metadata": {
    "collapsed": true
   },
   "outputs": [],
   "source": []
  },
  {
   "cell_type": "markdown",
   "metadata": {},
   "source": []
  },
  {
   "cell_type": "code",
   "execution_count": null,
   "metadata": {
    "collapsed": true
   },
   "outputs": [],
   "source": []
  }
 ],
 "metadata": {
  "kernelspec": {
   "display_name": "Python 2",
   "language": "python",
   "name": "python2"
  },
  "language_info": {
   "codemirror_mode": {
    "name": "ipython",
    "version": 2
   },
   "file_extension": ".py",
   "mimetype": "text/x-python",
   "name": "python",
   "nbconvert_exporter": "python",
   "pygments_lexer": "ipython2",
   "version": "2.7.11"
  }
 },
 "nbformat": 4,
 "nbformat_minor": 0
}
